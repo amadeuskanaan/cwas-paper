{
 "metadata": {
  "name": "10-cwas-ba-summary"
 }, 
 "nbformat": 2, 
 "worksheets": [
  {
   "cells": [
    {
     "cell_type": "code", 
     "collapsed": true, 
     "input": [], 
     "language": "python", 
     "outputs": []
    }
   ]
  }
 ]
}